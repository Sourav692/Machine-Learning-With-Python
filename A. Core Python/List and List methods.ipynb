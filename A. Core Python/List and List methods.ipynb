{
 "cells": [
  {
   "cell_type": "markdown",
   "metadata": {},
   "source": [
    "### List methods in Python"
   ]
  },
  {
   "cell_type": "markdown",
   "metadata": {},
   "source": [
    "#### Adding and Appending and extending"
   ]
  },
  {
   "cell_type": "markdown",
   "metadata": {},
   "source": [
    "append(): Used for appending and adding elements to List.It is used to add elements to the last position of List."
   ]
  },
  {
   "cell_type": "code",
   "execution_count": 3,
   "metadata": {},
   "outputs": [
    {
     "name": "stdout",
     "output_type": "stream",
     "text": [
      "['Mathematics', 'chemistry', 1997, 2000, 20544]\n"
     ]
    }
   ],
   "source": [
    "# Adds List Element as value of List. \n",
    "l = ['Mathematics', 'chemistry', 1997, 2000] \n",
    "l.append(20544) \n",
    "print(l) "
   ]
  },
  {
   "cell_type": "markdown",
   "metadata": {},
   "source": [
    "insert(): Inserts an elements at specified position."
   ]
  },
  {
   "cell_type": "raw",
   "metadata": {},
   "source": [
    "Syntax:\n",
    "list.insert(<position, element)"
   ]
  },
  {
   "cell_type": "code",
   "execution_count": 4,
   "metadata": {},
   "outputs": [
    {
     "name": "stdout",
     "output_type": "stream",
     "text": [
      "['Mathematics', 'chemistry', 10087, 1997, 2000]\n"
     ]
    }
   ],
   "source": [
    "List = ['Mathematics', 'chemistry', 1997, 2000] \n",
    "# Insert at index 2 value 10087 \n",
    "List.insert(2,10087)      \n",
    "print(List)         "
   ]
  },
  {
   "cell_type": "markdown",
   "metadata": {},
   "source": [
    "extend(): Adds contents to List2 to the end of List1."
   ]
  },
  {
   "cell_type": "code",
   "execution_count": 13,
   "metadata": {},
   "outputs": [
    {
     "name": "stdout",
     "output_type": "stream",
     "text": [
      "Concat using append [1, 2, 3, [2, 3, 4, 5]]\n",
      "Concat using extend [1, 2, 3, [2, 3, 4, 5], 2, 3, 4, 5]\n",
      "Concat using extend [2, 3, 4, 5, 1, 2, 3, [...], 2, 3, 4, 5]\n"
     ]
    }
   ],
   "source": [
    "List1 = [1, 2, 3] \n",
    "List2 = [2, 3, 4, 5] \n",
    "  \n",
    "# Add List2 to List1 using Append\n",
    "List1.append(List2)         \n",
    "print(\"Concat using append\", List1) \n",
    "\n",
    "# Add List2 to List1 using extend\n",
    "List1.extend(List2)         \n",
    "print(\"Concat using extend\", List1) \n",
    "\n",
    "# Add List1 to List2 using extend\n",
    "List2.extend(List1)         \n",
    "print(\"Concat using extend\", List2)"
   ]
  },
  {
   "cell_type": "markdown",
   "metadata": {},
   "source": [
    "#### sum(), count(), index(), min() and max() functions of List"
   ]
  },
  {
   "cell_type": "markdown",
   "metadata": {},
   "source": [
    "sum() : Calculates sum of all the elements of List."
   ]
  },
  {
   "cell_type": "code",
   "execution_count": 15,
   "metadata": {},
   "outputs": [
    {
     "name": "stdout",
     "output_type": "stream",
     "text": [
      "15\n"
     ]
    }
   ],
   "source": [
    "List = [1, 2, 3, 4, 5] \n",
    "print(sum(List)) "
   ]
  },
  {
   "cell_type": "code",
   "execution_count": 16,
   "metadata": {},
   "outputs": [
    {
     "data": {
      "text/plain": [
       "[1, 2, 3, 4, 5]"
      ]
     },
     "execution_count": 16,
     "metadata": {},
     "output_type": "execute_result"
    }
   ],
   "source": [
    "List"
   ]
  },
  {
   "cell_type": "markdown",
   "metadata": {},
   "source": [
    "#### What happens if numeric value is not used a parameter?\n",
    "Sum is calculated only for Numeric values, elsewise throws TypeError.\n",
    "See example:"
   ]
  },
  {
   "cell_type": "code",
   "execution_count": 17,
   "metadata": {},
   "outputs": [
    {
     "ename": "TypeError",
     "evalue": "unsupported operand type(s) for +: 'int' and 'str'",
     "output_type": "error",
     "traceback": [
      "\u001b[1;31m---------------------------------------------------------------------------\u001b[0m",
      "\u001b[1;31mTypeError\u001b[0m                                 Traceback (most recent call last)",
      "\u001b[1;32m<ipython-input-17-91cd13ec2e11>\u001b[0m in \u001b[0;36m<module>\u001b[1;34m\u001b[0m\n\u001b[0;32m      1\u001b[0m \u001b[0mList\u001b[0m \u001b[1;33m=\u001b[0m \u001b[1;33m[\u001b[0m\u001b[1;34m'gfg'\u001b[0m\u001b[1;33m,\u001b[0m \u001b[1;34m'abc'\u001b[0m\u001b[1;33m,\u001b[0m \u001b[1;36m3\u001b[0m\u001b[1;33m]\u001b[0m\u001b[1;33m\u001b[0m\u001b[1;33m\u001b[0m\u001b[0m\n\u001b[1;32m----> 2\u001b[1;33m \u001b[0mprint\u001b[0m\u001b[1;33m(\u001b[0m\u001b[0msum\u001b[0m\u001b[1;33m(\u001b[0m\u001b[0mList\u001b[0m\u001b[1;33m)\u001b[0m\u001b[1;33m)\u001b[0m\u001b[1;33m\u001b[0m\u001b[1;33m\u001b[0m\u001b[0m\n\u001b[0m",
      "\u001b[1;31mTypeError\u001b[0m: unsupported operand type(s) for +: 'int' and 'str'"
     ]
    }
   ],
   "source": [
    "List = ['gfg', 'abc', 3] \n",
    "print(sum(List)) "
   ]
  },
  {
   "cell_type": "markdown",
   "metadata": {},
   "source": [
    "count():Calculates total occurrence of given element of List."
   ]
  },
  {
   "cell_type": "raw",
   "metadata": {},
   "source": [
    "Syntax:\n",
    "List.count(element)"
   ]
  },
  {
   "cell_type": "code",
   "execution_count": 18,
   "metadata": {},
   "outputs": [
    {
     "name": "stdout",
     "output_type": "stream",
     "text": [
      "4\n"
     ]
    }
   ],
   "source": [
    "List = [1, 2, 3, 1, 2, 1, 2, 3, 2, 1] \n",
    "print(List.count(1)) "
   ]
  },
  {
   "cell_type": "code",
   "execution_count": 19,
   "metadata": {},
   "outputs": [
    {
     "name": "stdout",
     "output_type": "stream",
     "text": [
      "4\n"
     ]
    }
   ],
   "source": [
    "print(List.count(2)) "
   ]
  },
  {
   "cell_type": "code",
   "execution_count": 20,
   "metadata": {},
   "outputs": [
    {
     "name": "stdout",
     "output_type": "stream",
     "text": [
      "2\n"
     ]
    }
   ],
   "source": [
    "print(List.count(3)) "
   ]
  },
  {
   "cell_type": "markdown",
   "metadata": {},
   "source": [
    "length:Calculates total length of List."
   ]
  },
  {
   "cell_type": "code",
   "execution_count": 21,
   "metadata": {},
   "outputs": [
    {
     "name": "stdout",
     "output_type": "stream",
     "text": [
      "10\n"
     ]
    }
   ],
   "source": [
    "List = [1, 2, 3, 1, 2, 1, 2, 3, 2, 1] \n",
    "print(len(List)) "
   ]
  },
  {
   "cell_type": "markdown",
   "metadata": {},
   "source": [
    "index(): Returns the index of first occurrence. Start and End index are not necessary parameters."
   ]
  },
  {
   "cell_type": "code",
   "execution_count": 22,
   "metadata": {},
   "outputs": [
    {
     "name": "stdout",
     "output_type": "stream",
     "text": [
      "1\n"
     ]
    }
   ],
   "source": [
    "List = [1, 2, 3, 1, 2, 1, 2, 3, 2, 1] \n",
    "print(List.index(2)) "
   ]
  },
  {
   "cell_type": "code",
   "execution_count": 24,
   "metadata": {},
   "outputs": [
    {
     "name": "stdout",
     "output_type": "stream",
     "text": [
      "4\n"
     ]
    }
   ],
   "source": [
    "List = [1, 2, 3, 1, 2, 1, 2, 3, 2, 1] \n",
    "print(List.index(2,2)) "
   ]
  },
  {
   "cell_type": "code",
   "execution_count": 25,
   "metadata": {},
   "outputs": [
    {
     "name": "stdout",
     "output_type": "stream",
     "text": [
      "1\n"
     ]
    }
   ],
   "source": [
    "List = [1, 2, 3, 1, 2, 1, 2, 3, 2, 1] \n",
    "print(List.index(2,1)) "
   ]
  },
  {
   "cell_type": "code",
   "execution_count": 26,
   "metadata": {},
   "outputs": [
    {
     "ename": "ValueError",
     "evalue": "2 is not in list",
     "output_type": "error",
     "traceback": [
      "\u001b[1;31m---------------------------------------------------------------------------\u001b[0m",
      "\u001b[1;31mValueError\u001b[0m                                Traceback (most recent call last)",
      "\u001b[1;32m<ipython-input-26-d982a7fdab0f>\u001b[0m in \u001b[0;36m<module>\u001b[1;34m\u001b[0m\n\u001b[0;32m      2\u001b[0m \u001b[1;33m\u001b[0m\u001b[0m\n\u001b[0;32m      3\u001b[0m \u001b[1;31m# will check from index 2 to 3.\u001b[0m\u001b[1;33m\u001b[0m\u001b[1;33m\u001b[0m\u001b[1;33m\u001b[0m\u001b[0m\n\u001b[1;32m----> 4\u001b[1;33m \u001b[0mprint\u001b[0m\u001b[1;33m(\u001b[0m\u001b[0mList\u001b[0m\u001b[1;33m.\u001b[0m\u001b[0mindex\u001b[0m\u001b[1;33m(\u001b[0m\u001b[1;36m2\u001b[0m\u001b[1;33m,\u001b[0m\u001b[1;36m2\u001b[0m\u001b[1;33m,\u001b[0m\u001b[1;36m4\u001b[0m\u001b[1;33m)\u001b[0m\u001b[1;33m)\u001b[0m\u001b[1;33m\u001b[0m\u001b[1;33m\u001b[0m\u001b[0m\n\u001b[0m",
      "\u001b[1;31mValueError\u001b[0m: 2 is not in list"
     ]
    }
   ],
   "source": [
    "List = [1, 2, 3, 1, 2, 1, 2, 3, 2, 1] \n",
    "  \n",
    "# will check from index 2 to 3. \n",
    "print(List.index(2,2,4)) "
   ]
  },
  {
   "cell_type": "markdown",
   "metadata": {},
   "source": [
    "min() : Calculates minimum of all the elements of List."
   ]
  },
  {
   "cell_type": "code",
   "execution_count": 28,
   "metadata": {},
   "outputs": [
    {
     "name": "stdout",
     "output_type": "stream",
     "text": [
      "1.054\n"
     ]
    }
   ],
   "source": [
    "List = [2.3, 4.445, 3, 5.33, 1.054, 2.5] \n",
    "print(min(List)) "
   ]
  },
  {
   "cell_type": "markdown",
   "metadata": {},
   "source": [
    "max(): Calculates maximum of all the elements of List"
   ]
  },
  {
   "cell_type": "code",
   "execution_count": 30,
   "metadata": {},
   "outputs": [
    {
     "name": "stdout",
     "output_type": "stream",
     "text": [
      "5.33\n"
     ]
    }
   ],
   "source": [
    "List = [2.3, 4.445, 3, 5.33, 1.054, 2.5] \n",
    "print(max(List)) "
   ]
  },
  {
   "cell_type": "markdown",
   "metadata": {},
   "source": [
    "#### sort() and reverse() functions"
   ]
  },
  {
   "cell_type": "markdown",
   "metadata": {},
   "source": [
    "sort(): Sort the given data structure (both tuple and list) in ascending order. Key and reverse_flag are not necessary parameter and reverse_flag is set to False, if nothing is passed through sorted()."
   ]
  },
  {
   "cell_type": "raw",
   "metadata": {},
   "source": [
    "Syntax:\n",
    "sorted([list[,key[,Reverse_Flag]]])\n",
    " list.sort([key,[Reverse_flag]])"
   ]
  },
  {
   "cell_type": "code",
   "execution_count": 31,
   "metadata": {},
   "outputs": [
    {
     "name": "stdout",
     "output_type": "stream",
     "text": [
      "[5.33, 4.445, 3, 2.5, 2.3, 1.054]\n"
     ]
    }
   ],
   "source": [
    "List = [2.3, 4.445, 3, 5.33, 1.054, 2.5] \n",
    "  \n",
    "#Reverse flag is set True \n",
    "List.sort(reverse=True)  \n",
    "  \n",
    "#List.sort().reverse(), reverses the sorted list   \n",
    "print(List) "
   ]
  },
  {
   "cell_type": "code",
   "execution_count": 37,
   "metadata": {},
   "outputs": [
    {
     "name": "stdout",
     "output_type": "stream",
     "text": [
      "[1.054, 2.3, 2.5, 3, 4.445, 5.33]\n"
     ]
    }
   ],
   "source": [
    "List = [2.3, 4.445, 3, 5.33, 1.054, 2.5] \n",
    "List.sort(reverse=False)  \n",
    "print(List) "
   ]
  },
  {
   "cell_type": "markdown",
   "metadata": {},
   "source": [
    "#### Deletion of List Elements"
   ]
  },
  {
   "cell_type": "markdown",
   "metadata": {},
   "source": [
    "To Delete one or more elements, i.e. remove an element, many built in functions can be used, such as pop() & remove() and keywords such as del.\n",
    "Note: Index must be in range of the List, elsewise IndexErrors occurs."
   ]
  },
  {
   "cell_type": "code",
   "execution_count": 52,
   "metadata": {},
   "outputs": [
    {
     "data": {
      "text/plain": [
       "2.5"
      ]
     },
     "execution_count": 52,
     "metadata": {},
     "output_type": "execute_result"
    }
   ],
   "source": [
    "List = [2.3, 4.445, 3, 5.33, 1.054, 2.5] \n",
    "List.pop() \n"
   ]
  },
  {
   "cell_type": "code",
   "execution_count": 53,
   "metadata": {},
   "outputs": [
    {
     "data": {
      "text/plain": [
       "[2.3, 4.445, 3, 5.33, 1.054]"
      ]
     },
     "execution_count": 53,
     "metadata": {},
     "output_type": "execute_result"
    }
   ],
   "source": [
    "List"
   ]
  },
  {
   "cell_type": "code",
   "execution_count": 40,
   "metadata": {},
   "outputs": [
    {
     "name": "stdout",
     "output_type": "stream",
     "text": [
      "2.3\n"
     ]
    }
   ],
   "source": [
    "List = [2.3, 4.445, 3, 5.33, 1.054, 2.5] \n",
    "print(List.pop(0)) "
   ]
  },
  {
   "cell_type": "code",
   "execution_count": 42,
   "metadata": {},
   "outputs": [
    {
     "ename": "IndexError",
     "evalue": "pop index out of range",
     "output_type": "error",
     "traceback": [
      "\u001b[1;31m---------------------------------------------------------------------------\u001b[0m",
      "\u001b[1;31mIndexError\u001b[0m                                Traceback (most recent call last)",
      "\u001b[1;32m<ipython-input-42-e2f8b343a559>\u001b[0m in \u001b[0;36m<module>\u001b[1;34m\u001b[0m\n\u001b[0;32m      1\u001b[0m \u001b[0mList\u001b[0m \u001b[1;33m=\u001b[0m \u001b[1;33m[\u001b[0m\u001b[1;36m2.3\u001b[0m\u001b[1;33m,\u001b[0m \u001b[1;36m4.445\u001b[0m\u001b[1;33m,\u001b[0m \u001b[1;36m3\u001b[0m\u001b[1;33m,\u001b[0m \u001b[1;36m5.33\u001b[0m\u001b[1;33m,\u001b[0m \u001b[1;36m1.054\u001b[0m\u001b[1;33m,\u001b[0m \u001b[1;36m2.5\u001b[0m\u001b[1;33m]\u001b[0m\u001b[1;33m\u001b[0m\u001b[1;33m\u001b[0m\u001b[0m\n\u001b[1;32m----> 2\u001b[1;33m \u001b[0mprint\u001b[0m\u001b[1;33m(\u001b[0m\u001b[0mList\u001b[0m\u001b[1;33m.\u001b[0m\u001b[0mpop\u001b[0m\u001b[1;33m(\u001b[0m\u001b[1;36m6\u001b[0m\u001b[1;33m)\u001b[0m\u001b[1;33m)\u001b[0m\u001b[1;33m\u001b[0m\u001b[1;33m\u001b[0m\u001b[0m\n\u001b[0m",
      "\u001b[1;31mIndexError\u001b[0m: pop index out of range"
     ]
    }
   ],
   "source": [
    "List = [2.3, 4.445, 3, 5.33, 1.054, 2.5] \n",
    "print(List.pop(6)) "
   ]
  },
  {
   "cell_type": "markdown",
   "metadata": {},
   "source": [
    "del() : Element to be deleted is mentioned using list name and index. Indexwise delete"
   ]
  },
  {
   "cell_type": "code",
   "execution_count": 44,
   "metadata": {},
   "outputs": [
    {
     "name": "stdout",
     "output_type": "stream",
     "text": [
      "[4.445, 3, 5.33, 1.054, 2.5]\n"
     ]
    }
   ],
   "source": [
    "List = [2.3, 4.445, 3, 5.33, 1.054, 2.5] \n",
    "del List[0] \n",
    "print(List) "
   ]
  },
  {
   "cell_type": "code",
   "execution_count": 46,
   "metadata": {},
   "outputs": [
    {
     "data": {
      "text/plain": [
       "[4.445, 3, 5.33, 1.054, 2.5]"
      ]
     },
     "execution_count": 46,
     "metadata": {},
     "output_type": "execute_result"
    }
   ],
   "source": [
    "List"
   ]
  },
  {
   "cell_type": "code",
   "execution_count": 47,
   "metadata": {},
   "outputs": [],
   "source": [
    "del List[1] "
   ]
  },
  {
   "cell_type": "code",
   "execution_count": 48,
   "metadata": {},
   "outputs": [
    {
     "data": {
      "text/plain": [
       "[4.445, 5.33, 1.054, 2.5]"
      ]
     },
     "execution_count": 48,
     "metadata": {},
     "output_type": "execute_result"
    }
   ],
   "source": [
    "List"
   ]
  },
  {
   "cell_type": "markdown",
   "metadata": {},
   "source": [
    "remove(): Element to be deleted is mentioned using list name and element. Element wise delete"
   ]
  },
  {
   "cell_type": "code",
   "execution_count": 49,
   "metadata": {},
   "outputs": [
    {
     "name": "stdout",
     "output_type": "stream",
     "text": [
      "[2.3, 4.445, 5.33, 1.054, 2.5]\n"
     ]
    }
   ],
   "source": [
    "List = [2.3, 4.445, 3, 5.33, 1.054, 2.5] \n",
    "List.remove(3) \n",
    "print(List) "
   ]
  },
  {
   "cell_type": "code",
   "execution_count": null,
   "metadata": {},
   "outputs": [],
   "source": []
  },
  {
   "cell_type": "code",
   "execution_count": null,
   "metadata": {},
   "outputs": [],
   "source": []
  },
  {
   "cell_type": "markdown",
   "metadata": {},
   "source": [
    "1. “in” operator :- This operator is used to check if an element is present in the list or not. Returns true if element is present in list else returns false.\n",
    "\n",
    "2. “not in” operator :- This operator is used to check if an element is not present in the list or not. Returns true if element is not present in list else returns false."
   ]
  },
  {
   "cell_type": "code",
   "execution_count": 55,
   "metadata": {},
   "outputs": [
    {
     "name": "stdout",
     "output_type": "stream",
     "text": [
      "List is having element with value 4\n"
     ]
    }
   ],
   "source": [
    "# Python code to demonstrate the working of \n",
    "# \"in\" and \"not in\"  \n",
    "# initializing list \n",
    "lis = [1, 4, 3, 2, 5] \n",
    "# checking if 4 is in list using \"in\" \n",
    "if 4 in lis: \n",
    "        print (\"List is having element with value 4\") \n",
    "else :  print (\"List is not having element with value 4\") \n"
   ]
  },
  {
   "cell_type": "code",
   "execution_count": 57,
   "metadata": {},
   "outputs": [
    {
     "name": "stdout",
     "output_type": "stream",
     "text": [
      "List is not having element with value 7\n"
     ]
    }
   ],
   "source": [
    "# checking if 7 is not list using \"not in\" \n",
    "if 7 not in lis: \n",
    "        print (\"List is not having element with value 7\") \n",
    "else :  print (\"List is having element with value 7\") "
   ]
  },
  {
   "cell_type": "markdown",
   "metadata": {},
   "source": [
    "3. len() :- This function returns the length of list.\n",
    "\n",
    "4. min() :- This function returns the minimum element of list.\n",
    "\n",
    "5. max() :- This function returns the maximum element of list."
   ]
  },
  {
   "cell_type": "code",
   "execution_count": 58,
   "metadata": {},
   "outputs": [
    {
     "name": "stdout",
     "output_type": "stream",
     "text": [
      "The length of list is : 5\n",
      "The minimum element of list is : 1\n",
      "The maximum element of list is : 5\n"
     ]
    }
   ],
   "source": [
    "# Python code to demonstrate the working of \n",
    "# len(), min() and max() \n",
    "# initializing list 1 \n",
    "lis = [2, 1, 3, 5, 4] \n",
    "  \n",
    "# using len() to print length of list \n",
    "print (\"The length of list is : \", end=\"\") \n",
    "print (len(lis)) \n",
    "  \n",
    "# using min() to print minimum element of list \n",
    "print (\"The minimum element of list is : \", end=\"\") \n",
    "print (min(lis)) \n",
    "  \n",
    "# using max() to print maximum element of list \n",
    "print (\"The maximum element of list is : \", end=\"\") \n",
    "print (max(lis)) "
   ]
  },
  {
   "cell_type": "markdown",
   "metadata": {},
   "source": [
    "6. “+” operator :- This operator is used to concatenate two lists into a single list.\n",
    "\n",
    "7. “*” operator :- This operator is used to multiply the list “n” times and return the single list."
   ]
  },
  {
   "cell_type": "code",
   "execution_count": 63,
   "metadata": {},
   "outputs": [
    {
     "name": "stdout",
     "output_type": "stream",
     "text": [
      "[1, 2, 3, 4, 5, 6]\n",
      "[1, 2, 3, 1, 2, 3, 1, 2, 3]\n"
     ]
    }
   ],
   "source": [
    "# Python code to demonstrate the working of \n",
    "# \"+\" and \"*\" \n",
    "# initializing list 1 \n",
    "lis = [1, 2, 3] \n",
    "  \n",
    "# initializing list 2 \n",
    "lis1 = [4, 5, 6] \n",
    "  \n",
    "# using \"+\" to concatenate lists \n",
    "lis2= lis + lis1 \n",
    "\n",
    "print(lis2)\n",
    "  \n",
    "#using '*' to combine lists  \n",
    "lis3 = lis * 3\n",
    "  \n",
    "print(lis3)"
   ]
  },
  {
   "cell_type": "markdown",
   "metadata": {},
   "source": [
    "8. index(ele, beg, end) :- This function returns the index of first occurrence of element after beg and before end.\n",
    "\n",
    "9. count() :- This function counts the number of occurrences of elements in list"
   ]
  },
  {
   "cell_type": "code",
   "execution_count": 65,
   "metadata": {},
   "outputs": [
    {
     "name": "stdout",
     "output_type": "stream",
     "text": [
      "The first occurrence of 3 after 3rd position is : 5\n",
      "The number of occurrences of 3 is : 2\n"
     ]
    }
   ],
   "source": [
    "# Python code to demonstrate the working of \n",
    "# index() and count() \n",
    "# initializing list 1 \n",
    "lis = [2, 1, 3, 5, 4, 3] \n",
    "  \n",
    "# using index() to print first occurrence of 3 \n",
    "# prints 5 \n",
    "print (\"The first occurrence of 3 after 3rd position is : \", end=\"\") \n",
    "print (lis.index(3, 3, 6)) \n",
    "  \n",
    "# using count() to count number of occurrence of 3 \n",
    "print (\"The number of occurrences of 3 is : \", end=\"\") \n",
    "print (lis.count(3)) "
   ]
  },
  {
   "cell_type": "markdown",
   "metadata": {},
   "source": [
    "1. del[a : b] :- This method deletes all the elements in range starting from index ‘a’ till ‘b’ mentioned in arguments.\n",
    "\n",
    "2. pop() :- This method deletes the element at the position mentioned in its arguments."
   ]
  },
  {
   "cell_type": "code",
   "execution_count": 66,
   "metadata": {},
   "outputs": [
    {
     "name": "stdout",
     "output_type": "stream",
     "text": [
      "List elements after deleting are : 2 1 3 8 \r\n",
      "List elements after popping are : 2 1 8 "
     ]
    }
   ],
   "source": [
    "# Python code to demonstrate the working of \n",
    "# del and pop() \n",
    "  \n",
    "# initializing list  \n",
    "lis = [2, 1, 3, 5, 4, 3, 8] \n",
    "  \n",
    "# using del to delete elements from pos. 2 to 5 \n",
    "# deletes 3,5,4 \n",
    "del lis[2 : 5] \n",
    "  \n",
    "# displaying list after deleting  \n",
    "print (\"List elements after deleting are : \",end=\"\") \n",
    "for i in range(0, len(lis)): \n",
    "    print(lis[i], end=\" \") \n",
    "      \n",
    "print(\"\\r\") \n",
    "  \n",
    "# using pop() to delete element at pos 2 \n",
    "# deletes 3 \n",
    "lis.pop(2) \n",
    "  \n",
    "# displaying list after popping   \n",
    "print (\"List elements after popping are : \", end=\"\") \n",
    "for i in range(0, len(lis)): \n",
    "    print(lis[i], end=\" \") "
   ]
  },
  {
   "cell_type": "markdown",
   "metadata": {},
   "source": [
    "3. insert(a, x) :- This function inserts an element at the position mentioned in its arguments. It takes 2 arguments, position and element to be added at respective position.\n",
    "\n",
    "4. remove() :- This function is used to delete the first occurrence of number mentioned in its arguments."
   ]
  },
  {
   "cell_type": "code",
   "execution_count": 67,
   "metadata": {},
   "outputs": [
    {
     "name": "stdout",
     "output_type": "stream",
     "text": [
      "List elements after inserting 4 are : 2 1 3 4 5 3 8 \r\n",
      "List elements after removing are : 2 1 4 5 3 8 "
     ]
    }
   ],
   "source": [
    "# Python code to demonstrate the working of \n",
    "# insert() and remove() \n",
    "  \n",
    "# initializing list  \n",
    "lis = [2, 1, 3, 5, 3, 8] \n",
    "  \n",
    "# using insert() to insert 4 at 3rd pos \n",
    "lis.insert(3, 4) \n",
    "  \n",
    "# displaying list after inserting \n",
    "print(\"List elements after inserting 4 are : \", end=\"\") \n",
    "for i in range(0, len(lis)): \n",
    "    print(lis[i], end=\" \") \n",
    "      \n",
    "print(\"\\r\") \n",
    "  \n",
    "# using remove() to remove first occurrence of 3 \n",
    "# removes 3 at pos 2 \n",
    "lis.remove(3) \n",
    "  \n",
    "# displaying list after removing  \n",
    "print (\"List elements after removing are : \", end=\"\") \n",
    "for i in range(0, len(lis)): \n",
    "    print(lis[i], end=\" \") "
   ]
  },
  {
   "cell_type": "markdown",
   "metadata": {},
   "source": [
    "5. sort() :- This function sorts the list in increasing order.\n",
    "\n",
    "6. reverse() :- This function reverses the elements of list."
   ]
  },
  {
   "cell_type": "code",
   "execution_count": 68,
   "metadata": {},
   "outputs": [
    {
     "name": "stdout",
     "output_type": "stream",
     "text": [
      "List elements after sorting are : 1 2 3 3 5 8 \r\n",
      "List elements after reversing are : 8 5 3 3 2 1 "
     ]
    }
   ],
   "source": [
    "# Python code to demonstrate the working of \n",
    "# sort() and reverse() \n",
    "  \n",
    "# initializing list  \n",
    "lis = [2, 1, 3, 5, 3, 8] \n",
    "  \n",
    "# using sort() to sort the list \n",
    "lis.sort() \n",
    "  \n",
    "# displaying list after sorting \n",
    "print (\"List elements after sorting are : \", end=\"\") \n",
    "for i in range(0, len(lis)): \n",
    "    print(lis[i], end=\" \") \n",
    "      \n",
    "print(\"\\r\") \n",
    "  \n",
    "# using reverse() to reverse the list \n",
    "lis.reverse() \n",
    "  \n",
    "# displaying list after reversing \n",
    "print (\"List elements after reversing are : \", end=\"\") \n",
    "for i in range(0, len(lis)): \n",
    "    print(lis[i], end=\" \") "
   ]
  },
  {
   "cell_type": "markdown",
   "metadata": {},
   "source": [
    "7. extend(b) :- This function is used to extend the list with the elements present in another list. This function takes another list as its argument.\n",
    "\n",
    "8. clear() :- This function is used to erase all the elements of list. After this operation, list becomes empty."
   ]
  },
  {
   "cell_type": "code",
   "execution_count": 70,
   "metadata": {},
   "outputs": [
    {
     "name": "stdout",
     "output_type": "stream",
     "text": [
      "List elements after extending are : 2 1 3 5 6 4 3 \r\n",
      "List elements after clearing are : "
     ]
    }
   ],
   "source": [
    "# Python code to demonstrate the working of \n",
    "# extend() and clear() \n",
    "  \n",
    "# initializing list 1 \n",
    "lis1 = [2, 1, 3, 5] \n",
    "  \n",
    "# initializing list 1 \n",
    "lis2 = [6, 4, 3] \n",
    "  \n",
    "# using extend() to add elements of lis2 in lis1 \n",
    "lis1.extend(lis2) \n",
    "  \n",
    "# displaying list after sorting \n",
    "print (\"List elements after extending are : \", end=\"\") \n",
    "for i in range(0, len(lis1)): \n",
    "    print(lis1[i], end=\" \") \n",
    "      \n",
    "print (\"\\r\") \n",
    "  \n",
    "# using clear() to delete all lis1 contents \n",
    "lis1.clear() \n",
    "  \n",
    "# displaying list after clearing \n",
    "print (\"List elements after clearing are : \", end=\"\") \n",
    "for i in range(0, len(lis1)): \n",
    "    print(lis1[i], end=\" \") "
   ]
  },
  {
   "cell_type": "code",
   "execution_count": 72,
   "metadata": {},
   "outputs": [
    {
     "data": {
      "text/plain": [
       "[2, 1, 3, 5, 6, 4, 3]"
      ]
     },
     "execution_count": 72,
     "metadata": {},
     "output_type": "execute_result"
    }
   ],
   "source": [
    "lis1 = [2, 1, 3, 5] \n",
    "lis2 = [6, 4, 3] \n",
    "\n",
    "lis1.extend(lis2)\n",
    "lis1"
   ]
  },
  {
   "cell_type": "code",
   "execution_count": 78,
   "metadata": {},
   "outputs": [
    {
     "data": {
      "text/plain": [
       "[2, 1, 3, 5, 6, 4, 3]"
      ]
     },
     "execution_count": 78,
     "metadata": {},
     "output_type": "execute_result"
    }
   ],
   "source": [
    "lis3 = [2, 1, 3, 5] \n",
    "lis4 = [6, 4, 3] \n",
    "\n",
    "lis5 = lis3+lis4\n",
    "lis5"
   ]
  },
  {
   "cell_type": "markdown",
   "metadata": {},
   "source": [
    "### Python map() function"
   ]
  },
  {
   "cell_type": "markdown",
   "metadata": {},
   "source": [
    "map() function returns a list of the results after applying the given function to each item of a given iterable (list, tuple etc.)"
   ]
  },
  {
   "cell_type": "raw",
   "metadata": {},
   "source": [
    "map(fun, iter)\n",
    "Parameters :\n",
    "\n",
    "fun : It is a function to which map passes each element of given iterable.\n",
    "iter : It is a iterable which is to be mapped."
   ]
  },
  {
   "cell_type": "markdown",
   "metadata": {},
   "source": [
    "NOTE : You can pass one or more iterable to the map() function."
   ]
  },
  {
   "cell_type": "raw",
   "metadata": {},
   "source": [
    "Returns :\n",
    "\n",
    "Returns a list of the results after applying the given function  \n",
    "to each item of a given iterable (list, tuple etc.) "
   ]
  },
  {
   "cell_type": "markdown",
   "metadata": {},
   "source": [
    "NOTE : The returned value from map() (map object) then can be passed to functions like list() (to create a list), set() (to create a set) ."
   ]
  },
  {
   "cell_type": "code",
   "execution_count": 82,
   "metadata": {},
   "outputs": [
    {
     "name": "stdout",
     "output_type": "stream",
     "text": [
      "[11, 12, 13, 14]\n"
     ]
    }
   ],
   "source": [
    "# Python program to demonstrate working \n",
    "# of map. \n",
    "  \n",
    "# Return double of n \n",
    "def addition(n): \n",
    "    return n + 10 \n",
    "  \n",
    "# We double all numbers using map() \n",
    "numbers = (1, 2, 3, 4) \n",
    "result = map(addition, numbers) \n",
    "print(list(result)) "
   ]
  },
  {
   "cell_type": "markdown",
   "metadata": {},
   "source": [
    "We can also use lambda expressions with map to achieve above result."
   ]
  },
  {
   "cell_type": "code",
   "execution_count": 83,
   "metadata": {},
   "outputs": [
    {
     "name": "stdout",
     "output_type": "stream",
     "text": [
      "[2, 4, 6, 8]\n"
     ]
    }
   ],
   "source": [
    "# Double all numbers using map and lambda \n",
    "  \n",
    "numbers = (1, 2, 3, 4) \n",
    "result = map(lambda x: x + x, numbers) \n",
    "print(list(result)) "
   ]
  },
  {
   "cell_type": "code",
   "execution_count": 84,
   "metadata": {},
   "outputs": [
    {
     "name": "stdout",
     "output_type": "stream",
     "text": [
      "[5, 7, 9]\n"
     ]
    }
   ],
   "source": [
    "# Add two lists using map and lambda \n",
    "  \n",
    "numbers1 = [1, 2, 3] \n",
    "numbers2 = [4, 5, 6] \n",
    "  \n",
    "result = map(lambda x, y: x + y, numbers1, numbers2) \n",
    "print(list(result)) "
   ]
  },
  {
   "cell_type": "code",
   "execution_count": 85,
   "metadata": {},
   "outputs": [
    {
     "name": "stdout",
     "output_type": "stream",
     "text": [
      "[['s', 'a', 't'], ['b', 'a', 't'], ['c', 'a', 't'], ['m', 'a', 't']]\n"
     ]
    }
   ],
   "source": [
    "# List of strings \n",
    "l = ['sat', 'bat', 'cat', 'mat'] \n",
    "  \n",
    "# map() can listify the list of strings individually \n",
    "test = list(map(list, l)) \n",
    "print(test) "
   ]
  },
  {
   "cell_type": "markdown",
   "metadata": {},
   "source": [
    "### Python filter() function"
   ]
  },
  {
   "cell_type": "raw",
   "metadata": {},
   "source": [
    "The filter() method filters the given sequence with the help of a function that tests each element in the sequence to be true or not.\n",
    "\n",
    "syntax:\n",
    "\n",
    "filter(function, sequence)\n",
    "Parameters:\n",
    "function: function that tests if each element of a \n",
    "sequence true or not.\n",
    "sequence: sequence which needs to be filtered, it can \n",
    "be sets, lists, tuples, or containers of any iterators.\n",
    "Retruns:\n",
    "returns an iterator that is already filtered."
   ]
  },
  {
   "cell_type": "code",
   "execution_count": 86,
   "metadata": {},
   "outputs": [],
   "source": [
    "# function that filters vowels \n",
    "def fun(variable): \n",
    "    letters = ['a', 'e', 'i', 'o', 'u'] \n",
    "    if (variable in letters): \n",
    "        return True\n",
    "    else: \n",
    "        return False\n",
    "  \n",
    "  \n",
    "# sequence \n",
    "sequence = ['g', 'e', 'e', 'j', 'a', 's', 'p', 'r'] "
   ]
  },
  {
   "cell_type": "code",
   "execution_count": 88,
   "metadata": {},
   "outputs": [
    {
     "name": "stdout",
     "output_type": "stream",
     "text": [
      "The filtered letters are:\n",
      "e\n",
      "e\n",
      "a\n"
     ]
    }
   ],
   "source": [
    "# using filter function \n",
    "filtered = filter(fun, sequence) \n",
    "print('The filtered letters are:') \n",
    "for s in filtered: \n",
    "    print(s) "
   ]
  },
  {
   "cell_type": "markdown",
   "metadata": {},
   "source": [
    "It is normally used with Lambda functions to separate list, tuple, or sets."
   ]
  },
  {
   "cell_type": "code",
   "execution_count": 90,
   "metadata": {},
   "outputs": [
    {
     "name": "stdout",
     "output_type": "stream",
     "text": [
      "[1, 3, 5, 13]\n",
      "[0, 2, 8]\n"
     ]
    }
   ],
   "source": [
    "# a list contains both even and odd numbers.  \n",
    "seq = [0, 1, 2, 3, 5, 8, 13] \n",
    "  \n",
    "# result contains odd numbers of the list \n",
    "result = filter(lambda x: x % 2, seq) \n",
    "print(list(result)) \n",
    "  \n",
    "# result contains even numbers of the list \n",
    "result = filter(lambda x: x % 2 == 0, seq) \n",
    "print(list(result)) "
   ]
  },
  {
   "cell_type": "markdown",
   "metadata": {},
   "source": [
    "### Python reduce() function"
   ]
  },
  {
   "cell_type": "raw",
   "metadata": {},
   "source": [
    "The reduce(fun,seq) function is used to apply a particular function passed in its argument to all of the list elements mentioned in the sequence passed along.This function is defined in “functools” module.\n",
    "\n",
    "Working : \n",
    "\n",
    "At first step, first two elements of sequence are picked and the result is obtained.\n",
    "Next step is to apply the same function to the previously attained result and the number just succeeding the second element and the result is again stored.\n",
    "This process continues till no more elements are left in the container.\n",
    "The final returned result is returned and printed on console."
   ]
  },
  {
   "cell_type": "code",
   "execution_count": 97,
   "metadata": {},
   "outputs": [
    {
     "name": "stdout",
     "output_type": "stream",
     "text": [
      "The sum of the list elements is : 17\n",
      "The maximum element of the list is : 6\n"
     ]
    }
   ],
   "source": [
    "# python code to demonstrate working of reduce() \n",
    "  \n",
    "# importing functools for reduce() \n",
    "import functools \n",
    "  \n",
    "# initializing list \n",
    "lis = [ 1 , 3, 5, 6, 2, ] \n",
    "  \n",
    "# using reduce to compute sum of list \n",
    "print (\"The sum of the list elements is : \",end=\"\") \n",
    "print (functools.reduce(lambda a,b : a+b,lis)) \n",
    "  \n",
    "# using reduce to compute maximum element from list \n",
    "print (\"The maximum element of the list is : \",end=\"\") \n",
    "print (functools.reduce(lambda a,b : a if a > b else b,lis)) "
   ]
  },
  {
   "cell_type": "markdown",
   "metadata": {},
   "source": [
    "Using Operator Functions\n",
    "\n",
    "reduce() can also be combined with operator functions to achieve the similar functionality as with lambda functions and makes the code more readable."
   ]
  },
  {
   "cell_type": "code",
   "execution_count": 98,
   "metadata": {},
   "outputs": [],
   "source": [
    "# python code to demonstrate working of reduce() \n",
    "# using operator functions \n",
    "  \n",
    "# importing functools for reduce() \n",
    "import functools \n",
    "  \n",
    "# importing operator for operator functions \n",
    "import operator \n",
    "  \n",
    "# initializing list \n",
    "lis = [ 1 , 3, 5, 6, 2, ] "
   ]
  },
  {
   "cell_type": "code",
   "execution_count": 99,
   "metadata": {},
   "outputs": [
    {
     "name": "stdout",
     "output_type": "stream",
     "text": [
      "The sum of the list elements is : 17\n",
      "The product of list elements is : 180\n",
      "The concatenated product is : geeksforgeeks\n"
     ]
    }
   ],
   "source": [
    "# using reduce to compute sum of list \n",
    "# using operator functions \n",
    "print (\"The sum of the list elements is : \",end=\"\") \n",
    "print (functools.reduce(operator.add,lis)) \n",
    "  \n",
    "# using reduce to compute product \n",
    "# using operator functions \n",
    "print (\"The product of list elements is : \",end=\"\") \n",
    "print (functools.reduce(operator.mul,lis)) \n",
    "  \n",
    "# using reduce to concatenate string \n",
    "print (\"The concatenated product is : \",end=\"\") \n",
    "print (functools.reduce(operator.add,[\"geeks\",\"for\",\"geeks\"])) "
   ]
  },
  {
   "cell_type": "markdown",
   "metadata": {},
   "source": [
    "#### reduce() vs accumulate() "
   ]
  },
  {
   "cell_type": "raw",
   "metadata": {},
   "source": [
    "Both reduce() and accumulate() can be used to calculate the summation of a sequence elements. But there are differences in the implementation aspects in both of these.\n",
    "\n",
    "reduce() is defined in “functools” module, accumulate() in “itertools” module.\n",
    "reduce() stores the intermediate result and only returns the final summation value. Whereas, accumulate() returns a list containing the intermediate results. The last number of the list returned is summation value of the list.\n",
    "reduce(fun,seq) takes function as 1st and sequence as 2nd argument. In contrast accumulate(seq,fun) takes sequence as 1st argument and function as 2nd argument."
   ]
  },
  {
   "cell_type": "code",
   "execution_count": 100,
   "metadata": {},
   "outputs": [
    {
     "name": "stdout",
     "output_type": "stream",
     "text": [
      "The summation of list using accumulate is :[1, 4, 8, 18, 22]\n",
      "The summation of list using reduce is :22\n"
     ]
    }
   ],
   "source": [
    "# python code to demonstrate summation  \n",
    "# using reduce() and accumulate() \n",
    "  \n",
    "# importing itertools for accumulate() \n",
    "import itertools \n",
    "  \n",
    "# importing functools for reduce() \n",
    "import functools \n",
    "  \n",
    "# initializing list  \n",
    "lis = [ 1, 3, 4, 10, 4 ] \n",
    "  \n",
    "# priting summation using accumulate() \n",
    "print (\"The summation of list using accumulate is :\",end=\"\") \n",
    "print (list(itertools.accumulate(lis,lambda x,y : x+y))) \n",
    "  \n",
    "# priting summation using reduce() \n",
    "print (\"The summation of list using reduce is :\",end=\"\") \n",
    "print (functools.reduce(lambda x,y:x+y,lis)) "
   ]
  }
 ],
 "metadata": {
  "kernelspec": {
   "display_name": "Python 3",
   "language": "python",
   "name": "python3"
  },
  "language_info": {
   "codemirror_mode": {
    "name": "ipython",
    "version": 3
   },
   "file_extension": ".py",
   "mimetype": "text/x-python",
   "name": "python",
   "nbconvert_exporter": "python",
   "pygments_lexer": "ipython3",
   "version": "3.7.3"
  }
 },
 "nbformat": 4,
 "nbformat_minor": 2
}
