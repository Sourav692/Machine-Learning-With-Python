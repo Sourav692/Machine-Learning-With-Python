{
 "cells": [
  {
   "cell_type": "markdown",
   "metadata": {},
   "source": [
    "### Creating a Dictionary"
   ]
  },
  {
   "cell_type": "code",
   "execution_count": 1,
   "metadata": {},
   "outputs": [
    {
     "name": "stdout",
     "output_type": "stream",
     "text": [
      "Empty Dictionary: \n",
      "{}\n",
      "\n",
      "Dictionary with the use of Integer Keys: \n",
      "{1: 'Geeks', 2: 'For', 3: 'Geeks'}\n",
      "\n",
      "Dictionary with the use of Mixed Keys: \n",
      "{'Name': 'Geeks', 1: [1, 2, 3, 4]}\n",
      "\n",
      "Dictionary with the use of dict(): \n",
      "{1: 'Geeks', 2: 'For', 3: 'Geeks'}\n",
      "\n",
      "Dictionary with each item as a pair: \n",
      "{1: 'Geeks', 2: 'For'}\n"
     ]
    }
   ],
   "source": [
    "# Creating an empty Dictionary \n",
    "Dict = {} \n",
    "print(\"Empty Dictionary: \") \n",
    "print(Dict) \n",
    "  \n",
    "# Creating a Dictionary  \n",
    "# with Integer Keys \n",
    "Dict = {1: 'Geeks', 2: 'For', 3: 'Geeks'} \n",
    "print(\"\\nDictionary with the use of Integer Keys: \") \n",
    "print(Dict) \n",
    "  \n",
    "# Creating a Dictionary  \n",
    "# with Mixed keys \n",
    "Dict = {'Name': 'Geeks', 1: [1, 2, 3, 4]} \n",
    "print(\"\\nDictionary with the use of Mixed Keys: \") \n",
    "print(Dict) \n",
    "  \n",
    "# Creating a Dictionary \n",
    "# with dict() method \n",
    "Dict = dict({1: 'Geeks', 2: 'For', 3:'Geeks'}) \n",
    "print(\"\\nDictionary with the use of dict(): \") \n",
    "print(Dict) \n",
    "  \n",
    "# Creating a Dictionary \n",
    "# with each item as a Pair \n",
    "Dict = dict([(1, 'Geeks'), (2, 'For')]) \n",
    "print(\"\\nDictionary with each item as a pair: \") \n",
    "print(Dict) "
   ]
  },
  {
   "cell_type": "code",
   "execution_count": 2,
   "metadata": {},
   "outputs": [
    {
     "name": "stdout",
     "output_type": "stream",
     "text": [
      "{1: 'Geeks', 2: 'For', 3: {'A': 'Welcome', 'B': 'To', 'C': 'Geeks'}}\n"
     ]
    }
   ],
   "source": [
    "# Creating a Nested Dictionary  \n",
    "# as shown in the below image \n",
    "Dict = {1: 'Geeks', 2: 'For',  \n",
    "        3:{'A' : 'Welcome', 'B' : 'To', 'C' : 'Geeks'}} \n",
    "  \n",
    "print(Dict) "
   ]
  },
  {
   "cell_type": "markdown",
   "metadata": {},
   "source": [
    "### Adding elements to a Dictionary"
   ]
  },
  {
   "cell_type": "code",
   "execution_count": 3,
   "metadata": {},
   "outputs": [
    {
     "name": "stdout",
     "output_type": "stream",
     "text": [
      "Empty Dictionary: \n",
      "{}\n",
      "\n",
      "Dictionary after adding 3 elements: \n",
      "{0: 'Geeks', 2: 'For', 3: 1}\n",
      "\n",
      "Dictionary after adding 3 elements: \n",
      "{0: 'Geeks', 2: 'For', 3: 1, 'Value_set': (2, 3, 4)}\n",
      "\n",
      "Updated key value: \n",
      "{0: 'Geeks', 2: 'Welcome', 3: 1, 'Value_set': (2, 3, 4)}\n",
      "\n",
      "Adding a Nested Key: \n",
      "{0: 'Geeks', 2: 'Welcome', 3: 1, 'Value_set': (2, 3, 4), 5: {'Nested': {'1': 'Life', '2': 'Geeks'}}}\n"
     ]
    }
   ],
   "source": [
    "# Creating an empty Dictionary \n",
    "Dict = {} \n",
    "print(\"Empty Dictionary: \") \n",
    "print(Dict) \n",
    "  \n",
    "# Adding elements one at a time \n",
    "Dict[0] = 'Geeks'\n",
    "Dict[2] = 'For'\n",
    "Dict[3] = 1\n",
    "print(\"\\nDictionary after adding 3 elements: \") \n",
    "print(Dict) \n",
    "  \n",
    "# Adding set of values  \n",
    "# to a single Key \n",
    "Dict['Value_set'] = 2, 3, 4\n",
    "print(\"\\nDictionary after adding 3 elements: \") \n",
    "print(Dict) \n",
    "  \n",
    "# Updating existing Key's Value \n",
    "Dict[2] = 'Welcome'\n",
    "print(\"\\nUpdated key value: \") \n",
    "print(Dict) \n",
    "  \n",
    "# Adding Nested Key value to Dictionary \n",
    "Dict[5] = {'Nested' :{'1' : 'Life', '2' : 'Geeks'}} \n",
    "print(\"\\nAdding a Nested Key: \") \n",
    "print(Dict) "
   ]
  },
  {
   "cell_type": "markdown",
   "metadata": {},
   "source": [
    "### Accessing elements from a Dictionary"
   ]
  },
  {
   "cell_type": "code",
   "execution_count": 4,
   "metadata": {},
   "outputs": [
    {
     "name": "stdout",
     "output_type": "stream",
     "text": [
      "Acessing a element using key:\n",
      "For\n",
      "Acessing a element using key:\n",
      "Geeks\n",
      "Acessing a element using get:\n",
      "Geeks\n"
     ]
    }
   ],
   "source": [
    "# Python program to demonstrate   \n",
    "# accesing a element from a Dictionary  \n",
    "  \n",
    "# Creating a Dictionary  \n",
    "Dict = {1: 'Geeks', 'name': 'For', 3: 'Geeks'} \n",
    "  \n",
    "# accessing a element using key \n",
    "print(\"Acessing a element using key:\") \n",
    "print(Dict['name']) \n",
    "  \n",
    "# accessing a element using key \n",
    "print(\"Acessing a element using key:\") \n",
    "print(Dict[1]) \n",
    "  \n",
    "# accessing a element using get() \n",
    "# method \n",
    "print(\"Acessing a element using get:\") \n",
    "print(Dict.get(3)) "
   ]
  },
  {
   "cell_type": "markdown",
   "metadata": {},
   "source": [
    "### Removing Elements from Dictionary"
   ]
  },
  {
   "cell_type": "code",
   "execution_count": 5,
   "metadata": {},
   "outputs": [
    {
     "name": "stdout",
     "output_type": "stream",
     "text": [
      "Initial Dictionary: \n",
      "{5: 'Welcome', 6: 'To', 7: 'Geeks', 'A': {1: 'Geeks', 2: 'For', 3: 'Geeks'}, 'B': {1: 'Geeks', 2: 'Life'}}\n",
      "\n",
      "Deleting a specific key: \n",
      "{5: 'Welcome', 7: 'Geeks', 'A': {1: 'Geeks', 2: 'For', 3: 'Geeks'}, 'B': {1: 'Geeks', 2: 'Life'}}\n",
      "\n",
      "Deleting a key from Nested Dictionary: \n",
      "{5: 'Welcome', 7: 'Geeks', 'A': {1: 'Geeks', 3: 'Geeks'}, 'B': {1: 'Geeks', 2: 'Life'}}\n",
      "\n",
      "Popping specific element: \n",
      "{7: 'Geeks', 'A': {1: 'Geeks', 3: 'Geeks'}, 'B': {1: 'Geeks', 2: 'Life'}}\n",
      "\n",
      "Pops an arbitrary key-value pair: \n",
      "{7: 'Geeks', 'A': {1: 'Geeks', 3: 'Geeks'}}\n",
      "\n",
      "Deleting Entire Dictionary: \n",
      "{}\n"
     ]
    }
   ],
   "source": [
    "# Initial Dictionary \n",
    "Dict = { 5 : 'Welcome', 6 : 'To', 7 : 'Geeks', \n",
    "        'A' : {1 : 'Geeks', 2 : 'For', 3 : 'Geeks'}, \n",
    "        'B' : {1 : 'Geeks', 2 : 'Life'}} \n",
    "print(\"Initial Dictionary: \") \n",
    "print(Dict) \n",
    "  \n",
    "# Deleting a Key value \n",
    "del Dict[6] \n",
    "print(\"\\nDeleting a specific key: \") \n",
    "print(Dict) \n",
    "  \n",
    "# Deleting a Key from \n",
    "# Nested Dictionary \n",
    "del Dict['A'][2] \n",
    "print(\"\\nDeleting a key from Nested Dictionary: \") \n",
    "print(Dict) \n",
    "  \n",
    "# Deleting a Key  \n",
    "# using pop() \n",
    "Dict.pop(5) \n",
    "print(\"\\nPopping specific element: \") \n",
    "print(Dict) \n",
    "  \n",
    "# Deleting an arbitrary Key-value pair \n",
    "# using popitem() \n",
    "Dict.popitem() \n",
    "print(\"\\nPops an arbitrary key-value pair: \") \n",
    "print(Dict) \n",
    "  \n",
    "# Deleting entire Dictionary \n",
    "Dict.clear() \n",
    "print(\"\\nDeleting Entire Dictionary: \") \n",
    "print(Dict) "
   ]
  },
  {
   "cell_type": "markdown",
   "metadata": {},
   "source": [
    "## Dictionary Methods in Python"
   ]
  },
  {
   "cell_type": "markdown",
   "metadata": {},
   "source": [
    "1. str(dic) :- This method is used to return the string, denoting all the dictionary keys with their values.\n",
    "\n",
    "2. items() :- This method is used to return the list with all dictionary keys with values."
   ]
  },
  {
   "cell_type": "code",
   "execution_count": 6,
   "metadata": {},
   "outputs": [
    {
     "name": "stdout",
     "output_type": "stream",
     "text": [
      "The constituents of dictionary as string are : \n",
      "{'Name': 'Nandini', 'Age': 19}\n",
      "The constituents of dictionary as list are : \n",
      "dict_items([('Name', 'Nandini'), ('Age', 19)])\n"
     ]
    }
   ],
   "source": [
    "# Python code to demonstrate working of \n",
    "# str() and items() \n",
    "  \n",
    "# Initializing dictionary \n",
    "dic = { 'Name' : 'Nandini', 'Age' : 19 } \n",
    "  \n",
    "# using str() to display dic as string \n",
    "print (\"The constituents of dictionary as string are : \") \n",
    "print (str(dic)) \n",
    "  \n",
    "# using str() to display dic as list \n",
    "print (\"The constituents of dictionary as list are : \") \n",
    "print (dic.items()) "
   ]
  },
  {
   "cell_type": "markdown",
   "metadata": {},
   "source": [
    "3. len() :- It returns the count of key entities of the dictionary elements.\n",
    "\n",
    "4. type() :- This function returns the data type of the argument."
   ]
  },
  {
   "cell_type": "code",
   "execution_count": 7,
   "metadata": {},
   "outputs": [
    {
     "name": "stdout",
     "output_type": "stream",
     "text": [
      "The size of dic is : 3\n",
      "The data type of dic is : <class 'dict'>\n",
      "The data type of li is : <class 'list'>\n"
     ]
    }
   ],
   "source": [
    "# Python code to demonstrate working of \n",
    "# len() and type() \n",
    "  \n",
    "# Initializing dictionary \n",
    "dic = { 'Name' : 'Nandini', 'Age' : 19, 'ID' : 2541997 } \n",
    "  \n",
    "# Initializing list \n",
    "li = [ 1, 3, 5, 6 ] \n",
    "  \n",
    "# using len() to display dic size \n",
    "print (\"The size of dic is : \",end=\"\") \n",
    "print (len(dic)) \n",
    "  \n",
    "# using type() to display data type \n",
    "print (\"The data type of dic is : \",end=\"\") \n",
    "print (type(dic)) \n",
    "  \n",
    "# using type() to display data type \n",
    "print (\"The data type of li is : \",end=\"\") \n",
    "print (type(li)) "
   ]
  },
  {
   "cell_type": "markdown",
   "metadata": {},
   "source": [
    "5. copy() :- This function creates the shallow copy of the dictionary into other dictionary.\n",
    "\n",
    "6. clear() :- This function is used to clear the dictionary contents."
   ]
  },
  {
   "cell_type": "code",
   "execution_count": 8,
   "metadata": {},
   "outputs": [
    {
     "name": "stdout",
     "output_type": "stream",
     "text": [
      "The new copied dictionary is : \n",
      "dict_items([('Name', 'Nandini'), ('Age', 19)])\n",
      "The contents of deleted dictionary is : dict_items([])\n"
     ]
    }
   ],
   "source": [
    "# Python code to demonstrate working of \n",
    "# clear() and copy() \n",
    "  \n",
    "# Initializing dictionary \n",
    "dic1 = { 'Name' : 'Nandini', 'Age' : 19 } \n",
    "  \n",
    "# Initializing dictionary  \n",
    "dic3 = {} \n",
    "  \n",
    "# using copy() to make shallow copy of dictionary \n",
    "dic3 = dic1.copy() \n",
    "  \n",
    "# printing new dictionary \n",
    "print (\"The new copied dictionary is : \") \n",
    "print (dic3.items()) \n",
    "  \n",
    "# clearing the dictionary \n",
    "dic1.clear() \n",
    "  \n",
    "# printing cleared dictionary \n",
    "print (\"The contents of deleted dictionary is : \",end=\"\") \n",
    "print (dic1.items()) "
   ]
  },
  {
   "cell_type": "markdown",
   "metadata": {},
   "source": [
    "1. fromkeys(seq,value) :- This method is used to declare a new dictionary from the sequence mentioned in its arguments. This function can also initialize the declared dictionary with “value” argument.\n",
    "\n",
    "2. update(dic) :- This function is used to update the dictionary to add other dictionary keys."
   ]
  },
  {
   "cell_type": "code",
   "execution_count": 9,
   "metadata": {},
   "outputs": [],
   "source": [
    "# Python code to demonstrate working of \n",
    "# fromkeys() and update() \n",
    "  \n",
    "# Initializing dictionary 1 \n",
    "dic1 = { 'Name' : 'Nandini', 'Age' : 19 } \n",
    "  \n",
    "# Initializing dictionary 2 \n",
    "dic2 = { 'ID' : 2541997 } \n",
    "  \n",
    "# Initializing sequence \n",
    "sequ = ('Name', 'Age', 'ID') "
   ]
  },
  {
   "cell_type": "code",
   "execution_count": 10,
   "metadata": {},
   "outputs": [
    {
     "name": "stdout",
     "output_type": "stream",
     "text": [
      "The updated dictionary is : \n",
      "{'Name': 'Nandini', 'Age': 19, 'ID': 2541997}\n"
     ]
    }
   ],
   "source": [
    "# using update to add dic2 values in dic 1 \n",
    "dic1.update(dic2) \n",
    "  \n",
    "# printing updated dictionary values \n",
    "print (\"The updated dictionary is : \") \n",
    "print (str(dic1)) "
   ]
  },
  {
   "cell_type": "code",
   "execution_count": 11,
   "metadata": {},
   "outputs": [
    {
     "name": "stdout",
     "output_type": "stream",
     "text": [
      "The new dictionary values are : \n",
      "{'Name': 5, 'Age': 5, 'ID': 5}\n"
     ]
    }
   ],
   "source": [
    "# using fromkeys() to transform sequence into dictionary \n",
    "dict = dict.fromkeys(sequ,5) \n",
    "  \n",
    "# printing new dictionary values \n",
    "print (\"The new dictionary values are : \") \n",
    "print (str(dict)) "
   ]
  },
  {
   "cell_type": "code",
   "execution_count": 12,
   "metadata": {},
   "outputs": [],
   "source": [
    "dict1 = dict.fromkeys(sequ) "
   ]
  },
  {
   "cell_type": "code",
   "execution_count": 13,
   "metadata": {},
   "outputs": [
    {
     "data": {
      "text/plain": [
       "{'Name': None, 'Age': None, 'ID': None}"
      ]
     },
     "execution_count": 13,
     "metadata": {},
     "output_type": "execute_result"
    }
   ],
   "source": [
    "dict1"
   ]
  },
  {
   "cell_type": "markdown",
   "metadata": {},
   "source": [
    "3. in :- This function returns true if specified key is present in the dictionary, else returns false.\n",
    "\n",
    "4. get(key, def_val) :- This function return the key value associated with the key mentioned in arguments. If key is not present, the default value is returned."
   ]
  },
  {
   "cell_type": "code",
   "execution_count": 19,
   "metadata": {},
   "outputs": [
    {
     "name": "stdout",
     "output_type": "stream",
     "text": [
      "Name is a key\n",
      "The value associated with Name is : \n",
      "Nandini\n",
      "The value associated with ID is : \n",
      "Not Present\n",
      "The dictionary values are : \n",
      "{'Name': 'Nandini', 'Age': 19}\n"
     ]
    }
   ],
   "source": [
    "# Python code to demonstrate working of \n",
    "# has_key() and get() \n",
    "  \n",
    "# Initializing dictionary \n",
    "dict = { 'Name' : 'Nandini', 'Age' : 19 } \n",
    "  \n",
    "# using has_key() to check if dic1 has a key \n",
    "if 'Name' in dict: \n",
    "       print (\"Name is a key\") \n",
    "else : print (\"Name is not a key\") \n",
    "  \n",
    "# using get() to print a key value \n",
    "print (\"The value associated with Name is : \") \n",
    "print (dict.get('Name', \"Not Present\")) \n",
    "print (\"The value associated with ID is : \")\n",
    "print (dict.get('ID', \"Not Present\")) \n",
    "  \n",
    "# printing dictionary values \n",
    "print (\"The dictionary values are : \") \n",
    "print (str(dict)) "
   ]
  },
  {
   "cell_type": "markdown",
   "metadata": {},
   "source": [
    "5. setdefault(key, def_value) :- This function also searches for a key and displays its value like get() but, it creates new key with def_value if key is not present."
   ]
  },
  {
   "cell_type": "code",
   "execution_count": 20,
   "metadata": {},
   "outputs": [
    {
     "name": "stdout",
     "output_type": "stream",
     "text": [
      "The value associated with Age is : No ID\n",
      "The dictionary values are : \n",
      "{'Name': 'Nandini', 'Age': 19, 'ID': 'No ID'}\n"
     ]
    }
   ],
   "source": [
    "# Python code to demonstrate working of \n",
    "# setdefault() \n",
    "  \n",
    "# Initializing dictionary \n",
    "dict = { 'Name' : 'Nandini', 'Age' : 19 } \n",
    "  \n",
    "# using setdefault() to print a key value \n",
    "print (\"The value associated with Age is : \",end=\"\") \n",
    "print (dict.setdefault('ID', \"No ID\")) \n",
    "  \n",
    "# printing dictionary values \n",
    "print (\"The dictionary values are : \") \n",
    "print (str(dict))"
   ]
  },
  {
   "cell_type": "code",
   "execution_count": null,
   "metadata": {},
   "outputs": [],
   "source": []
  },
  {
   "cell_type": "code",
   "execution_count": null,
   "metadata": {},
   "outputs": [],
   "source": []
  },
  {
   "cell_type": "code",
   "execution_count": null,
   "metadata": {},
   "outputs": [],
   "source": []
  },
  {
   "cell_type": "code",
   "execution_count": null,
   "metadata": {},
   "outputs": [],
   "source": []
  },
  {
   "cell_type": "code",
   "execution_count": null,
   "metadata": {},
   "outputs": [],
   "source": []
  },
  {
   "cell_type": "code",
   "execution_count": null,
   "metadata": {},
   "outputs": [],
   "source": []
  }
 ],
 "metadata": {
  "kernelspec": {
   "display_name": "Python 3",
   "language": "python",
   "name": "python3"
  },
  "language_info": {
   "codemirror_mode": {
    "name": "ipython",
    "version": 3
   },
   "file_extension": ".py",
   "mimetype": "text/x-python",
   "name": "python",
   "nbconvert_exporter": "python",
   "pygments_lexer": "ipython3",
   "version": "3.7.3"
  }
 },
 "nbformat": 4,
 "nbformat_minor": 2
}
